{
 "cells": [
  {
   "cell_type": "code",
   "execution_count": null,
   "metadata": {},
   "outputs": [],
   "source": [
    "import xml.etree.ElementTree as ET\n",
    "\n",
    "data = '''\n",
    "<person>\n",
    "  <name>Chuck</name>\n",
    "  <phone type=\"intl\">\n",
    "     +1 734 303 4456\n",
    "   </phone>\n",
    "   <email hide=\"yes\"/>\n",
    "</person>'''\n",
    "\n",
    "tree = ET.fromstring(data)\n",
    "print('Name:', tree.find('name').text)\n",
    "print('Attr:', tree.find('email').get('hide'))\n",
    "\n",
    "# Code: http://www.py4e.com/code3/xml1.py\n"
   ]
  },
  {
   "cell_type": "code",
   "execution_count": 7,
   "metadata": {},
   "outputs": [
    {
     "name": "stdin",
     "output_type": "stream",
     "text": [
      "Enter a genus name:  acer\n"
     ]
    },
    {
     "name": "stdout",
     "output_type": "stream",
     "text": [
      "Retrieving https://search.idigbio.org/v2/search/records?rq=%7B%22genus%22%3A+%22acer%22%7D\n",
      "Retrieved 1993789 characters\n",
      "These are the species in the genus:  acer\n",
      "Acer medianum, which has 10 records\n",
      "Acer kluckingii, which has 9 records\n",
      "Acer busamarum, which has 5 records\n",
      "Acer, which has 14 records\n",
      "Acer glabroides, which has 7 records\n",
      "Acer oregonianum, which has 15 records\n",
      "Acer negundoides, which has 10 records\n",
      "Acer scottiae, which has 4 records\n",
      "Acer tyrrelli, which has 12 records\n",
      "Acer macrophyllum, which has 1 records\n",
      "Acer septilobatum, which has 2 records\n",
      "Acer ashwillii, which has 2 records\n",
      "Acer riogrande, which has 1 records\n",
      "Acer cranei, which has 1 records\n",
      "Acer collawashense, which has 1 records\n",
      "Acer taggartii, which has 3 records\n",
      "Acer chaneyi, which has 1 records\n",
      "Acer elkoanum, which has 1 records\n",
      "Acer schornii, which has 1 records\n",
      "The total amount of species for the query is: 19\n",
      "The total amount of records for the query is: 100\n"
     ]
    }
   ],
   "source": [
    "import xml.etree.ElementTree as ET\n",
    "import urllib.request, urllib.parse, urllib.error\n",
    "import json\n",
    "#cannot send two requests to the api at the same time\n",
    "\n",
    "serviceurl = 'https://search.idigbio.org/v2/search/records'\n",
    "\n",
    "#API wants: {\"genus\":\"acer\"}\n",
    "genus = input('Enter a genus name: ')\n",
    "\n",
    "genus_dict = {\"genus\" : genus}\n",
    "\n",
    "#family =input('Enter a scientific name: ')\n",
    "\n",
    "#species_dict = {\"scientificname\": family}\n",
    "\n",
    "\n",
    "#if len(genus_dict) < 1: break\n",
    "\n",
    "#url = serviceurl + \"?\" + urllib.parse.urlencode(\n",
    "#    {'rq': json.dumps(species_dict)})\n",
    "\n",
    "url = serviceurl + \"?\" + urllib.parse.urlencode(\n",
    "    {'rq': json.dumps(genus_dict)})\n",
    "#rq= <--- stack overflow? returns people's emails\n",
    "print('Retrieving', url)\n",
    "uh = urllib.request.urlopen(url)\n",
    "data = uh.read().decode()\n",
    "print('Retrieved', len(data), 'characters')\n",
    "\n",
    "try:\n",
    "    js = json.loads(data)\n",
    "except:\n",
    "    js = None\n",
    "\n",
    "# Comment out because it's kind of long   \n",
    "# print(json.dumps(js, indent=4))\n",
    "species_dict={}\n",
    "for item in js['items']:\n",
    "    #print(item['data']['dwc:scientificName'])\n",
    "    try:\n",
    "        species=item['data']['dwc:scientificName']\n",
    "        #species=item['data']['dwc:county']\n",
    "    except:\n",
    "        continue\n",
    "    try:\n",
    "        species_dict[species]+=1\n",
    "        #species_dict[species]=species_dict[species]+1\n",
    "        #+= notation for appending to dictionary\n",
    "        #species_dict[item['data']['dwc:scientificName']]+=1\n",
    "        #species_dict.append(item)\n",
    "    except:\n",
    "        species_dict[species]=1\n",
    "        #species_dict[item['data']['dwc:scientificName']]=1\n",
    "        \n",
    "    #for key,value in item['data'].items():\n",
    "    #    print(key,value)\n",
    "    #break\n",
    "print(\"These are the species in the genus: \", genus)\n",
    "speciescount=0\n",
    "recordcount=0\n",
    "for key in species_dict:\n",
    "    speciescount+=1\n",
    "    recordcount+=species_dict[key]\n",
    "    print(f'{key}, which has {species_dict[key]} records')\n",
    "#print(species_dict)\n",
    "print(f\"The total amount of species for the query is: {speciescount}\")\n",
    "print(f\"The total amount of records for the query is: {recordcount}\")\n"
   ]
  },
  {
   "cell_type": "code",
   "execution_count": 12,
   "metadata": {},
   "outputs": [
    {
     "data": {
      "text/plain": [
       "Text(0, 0.5, 'Prevalence')"
      ]
     },
     "execution_count": 12,
     "metadata": {},
     "output_type": "execute_result"
    },
    {
     "data": {
      "image/png": "[encoded data removed]",
      "text/plain": [
       "<Figure size 432x288 with 1 Axes>"
      ]
     },
     "metadata": {
      "needs_background": "light"
     },
     "output_type": "display_data"
    }
   ],
   "source": [
    "import matplotlib.pyplot as plt\n",
    "import numpy as np\n",
    "\n",
    "plt.hist(species_dict)\n",
    "plt.xlabel('Species')\n",
    "plt.ylabel('Prevalence')\n",
    "\n",
    "# Also dont know how to adjust the scale "
   ]
  },
  {
   "cell_type": "code",
   "execution_count": 5,
   "metadata": {},
   "outputs": [],
   "source": [
    "flcounties=['Alachua',\n",
    "'Baker',\n",
    "'Bay',\n",
    "'Bradford',\n",
    "'Brevard',\n",
    "'Broward',\n",
    "'Calhoun',\n",
    "'Charlotte',\n",
    "'Citrus',\n",
    "'Clay',\n",
    "'Collier',\n",
    "'Columbia',\n",
    "'DeSoto',\n",
    "'Dixie',\n",
    "'Duval',\n",
    "'Escambia',\n",
    "'Flagler',\n",
    "'Franklin',\n",
    "'Gadsden',\n",
    "'Gilchrist',\n",
    "'Glades',\n",
    "'Gulf',\n",
    "'Hamilton',\n",
    "'Hardee',\n",
    "'Hendry',\n",
    "'Hernando',\n",
    "'Highlands',\n",
    "'Hillsborough',\n",
    "'Holmes',\n",
    "'Indian River',\n",
    "'Jackson',\n",
    "'Jefferson',\n",
    "'Lafayette',\n",
    "'Lake',\n",
    "'Lee',\n",
    "'Leon',\n",
    "'Levy',\n",
    "'Liberty',\n",
    "'Madison',\n",
    "'Manatee',\n",
    "'Marion',\n",
    "'Martin',\n",
    "'Miami-Dade',\n",
    "'Monroe',\n",
    "'Nassau',\n",
    "'Okaloosa',\n",
    "'Okeechobee',\n",
    "'Orange',\n",
    "'Osceola',\n",
    "'Palm Beach',\n",
    "'Pasco',\n",
    "'Pinellas',\n",
    "'Polk',\n",
    "'Putnam',\n",
    "'St. Johns',\n",
    "'St. Lucie',\n",
    "'Santa Rosa',\n",
    "'Sarasota',\n",
    "'Seminole',\n",
    "'Sumter',\n",
    "'Suwannee',\n",
    "'Taylor',\n",
    "'Union',\n",
    "'Volusia',\n",
    "'Wakulla',\n",
    "'Walton',\n",
    "'Washington',\n",
    "]"
   ]
  },
  {
   "cell_type": "code",
   "execution_count": null,
   "metadata": {},
   "outputs": [],
   "source": [
    "for item in js['items']:\n",
    "    #print(item['data']['dwc:scientificName'])\n",
    "    try:\n",
    "        species=item['data']['dwc:scientificName']['dwc:county']\n",
    "    except:\n",
    "        continue"
   ]
  }
 ],
 "metadata": {
  "kernelspec": {
   "display_name": "Python 3.8 (full)",
   "language": "python",
   "name": "python3-3.8-ufrc"
  },
  "language_info": {
   "codemirror_mode": {
    "name": "ipython",
    "version": 3
   },
   "file_extension": ".py",
   "mimetype": "text/x-python",
   "name": "python",
   "nbconvert_exporter": "python",
   "pygments_lexer": "ipython3",
   "version": "3.8.5"
  }
 },
 "nbformat": 4,
 "nbformat_minor": 4
}
